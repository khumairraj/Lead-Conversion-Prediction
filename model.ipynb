{
 "cells": [
  {
   "cell_type": "code",
   "execution_count": 402,
   "metadata": {},
   "outputs": [],
   "source": [
    "# Initial imports\n",
    "import pandas as pd\n",
    "import matplotlib.pyplot as plt\n",
    "%matplotlib inline\n",
    "import seaborn as sns\n",
    "import numpy as np\n",
    "import random\n",
    "from sklearn.cross_validation import train_test_split\n",
    "\n",
    "\n",
    "import xgboost as xgb\n",
    "from sklearn.metrics import mean_squared_error, roc_auc_score\n",
    "from sklearn.cross_validation import train_test_split\n",
    "import math\n",
    "\n",
    "from scipy.stats import boxcox\n",
    "import warnings\n",
    "warnings.filterwarnings('ignore')"
   ]
  },
  {
   "cell_type": "code",
   "execution_count": 403,
   "metadata": {
    "collapsed": true
   },
   "outputs": [],
   "source": [
    "def submit_(Approved_):\n",
    "    ID= pd.DataFrame()\n",
    "    ID= test.ID\n",
    "\n",
    "    sample_submission = pd.DataFrame({\n",
    "            \"ID\": ID,\n",
    "            \"Approved\": Approved_ \n",
    "        })\n",
    "    sample_submission.sort_values('ID')\n",
    "    sample_submission.to_csv('sample_submission1.csv', index=False)"
   ]
  },
  {
   "cell_type": "code",
   "execution_count": 404,
   "metadata": {
    "collapsed": true
   },
   "outputs": [],
   "source": [
    "train= pd.read_csv(\"train.csv\")\n",
    "test= pd.read_csv(\"test.csv\")\n",
    "sample= pd.read_csv(\"sample.csv\")"
   ]
  },
  {
   "cell_type": "code",
   "execution_count": 405,
   "metadata": {
    "collapsed": true
   },
   "outputs": [],
   "source": [
    "train.Lead_Creation_Date= pd.to_datetime(train.Lead_Creation_Date)\n",
    "train['Lead_day']= train.Lead_Creation_Date.dt.month\n",
    "\n",
    "test.Lead_Creation_Date= pd.to_datetime(test.Lead_Creation_Date)\n",
    "test['Lead_day']= test.Lead_Creation_Date.dt.month"
   ]
  },
  {
   "cell_type": "code",
   "execution_count": 406,
   "metadata": {
    "collapsed": true
   },
   "outputs": [],
   "source": [
    "train.DOB= pd.to_datetime(train.DOB)\n",
    "train.DOB= train.DOB.dt.year\n",
    "\n",
    "\n",
    "test.DOB= pd.to_datetime(test.DOB)\n",
    "test.DOB= test.DOB.dt.year\n",
    "\n",
    "train.DOB= 2017- train.DOB\n",
    "test.DOB= 2017- test.DOB\n",
    "\n",
    "train.loc[train.DOB<0, 'DOB'] = train[train.DOB<0]['DOB'].apply(lambda x: x+100)\n",
    "test.loc[test.DOB<0, 'DOB'] = test[test.DOB<0]['DOB'].apply(lambda x: x+100)\n",
    "\n",
    "data_age=pd.concat([train, test])\n",
    "data_age['DOB']= pd.cut(data_age['DOB'], bins= 20)\n",
    "train.DOB= data_age.DOB[:train.shape[0]]\n",
    "test.DOB= data_age.DOB[test.shape[0]:]\n",
    "\n",
    "train.dropna(subset=['DOB'], inplace=True)"
   ]
  },
  {
   "cell_type": "code",
   "execution_count": 407,
   "metadata": {},
   "outputs": [],
   "source": [
    "data_loc=pd.concat([train, test])\n",
    "\n",
    "rep= 'City_Code'\n",
    "data_loc.loc[data_loc[rep].isin((data_loc[rep].value_counts()[data_loc[rep].value_counts()<150].index)), rep]= 'others'\n",
    "train[rep]= data_loc[rep][:train.shape[0]]\n",
    "test[rep]= data_loc[rep][test.shape[0]:]\n",
    "\n",
    "rep= 'Employer_Code'\n",
    "\n",
    "data_loc.loc[data_loc[rep].isin((data_loc[rep].value_counts()[data_loc[rep].value_counts()<3].index)), rep]= 'others'\n",
    "train[rep]= data_loc[rep][:train.shape[0]]\n",
    "test[rep]= data_loc[rep][test.shape[0]:]\n",
    "\n",
    "rep= 'Source'\n",
    "\n",
    "data_loc.loc[data_loc[rep].isin((data_loc[rep].value_counts()[data_loc[rep].value_counts()<4].index)), rep]= 'others'\n",
    "train[rep]= data_loc[rep][:train.shape[0]]\n",
    "test[rep]= data_loc[rep][test.shape[0]:]\n",
    "\n",
    "skewed = ['Monthly_Income', 'EMI', 'Loan_Amount', 'Interest_Rate']\n",
    "\n",
    "def normalizing(X):\n",
    "\n",
    "    data_loc[X][data_loc[X] < 0]=0\n",
    "    data_loc[X][data_loc[X] > data_loc[X].quantile(0.999)] = data_loc[X].quantile(0.999)\n",
    "    data_loc[X] = data_loc[X].apply(lambda x: x+np.random.rand())\n",
    "    \n",
    "    data_loc[X] = data_loc[X].apply(lambda x: x+1)\n",
    "    data_loc[~data_loc[i].isnull()][X], _ = boxcox(data_loc[~data_loc[i].isnull()][X])\n",
    "\n",
    "for i in skewed:\n",
    "    normalizing(i)\n",
    "    train[i]= data_loc[i][:train.shape[0]]\n",
    "    test[i]= data_loc[i][test.shape[0]:]\n"
   ]
  },
  {
   "cell_type": "code",
   "execution_count": 408,
   "metadata": {
    "collapsed": true
   },
   "outputs": [],
   "source": [
    "train.drop(train.index[train.Loan_Period==6], inplace=True)\n",
    "test[test.Loan_Period==6]['Loan_Period']='NaN'\n",
    "\n",
    "# train.loc[train['Existing_EMI']==0, 'Existing_EMI']  = 'NaN'\n",
    "# test.loc[test['Existing_EMI']==0, 'Existing_EMI'] = 'NaN'"
   ]
  },
  {
   "cell_type": "code",
   "execution_count": 409,
   "metadata": {},
   "outputs": [],
   "source": [
    "from sklearn.preprocessing import LabelEncoder\n",
    "le= LabelEncoder()\n",
    "\n",
    "label_= [ 'Gender','City_Code','City_Category', 'Employer_Code', 'Employer_Category1',\n",
    "        'Customer_Existing_Primary_Bank_Code', 'Primary_Bank_Type',\n",
    "        'Contacted', 'Source', 'Source_Category']\n",
    "\n",
    "train['DOB'] = le.fit_transform(train['DOB'])\n",
    "test['DOB'] = le.fit_transform(test['DOB'])\n",
    "    \n",
    "for labe_ in label_:\n",
    "    train[labe_][pd.isnull(train[labe_])]  = 'NaN'\n",
    "    test[labe_][pd.isnull(test[labe_])]  = 'NaN'\n",
    "    train[labe_] = le.fit_transform(train[labe_])\n",
    "    test[labe_] = le.fit_transform(test[labe_])"
   ]
  },
  {
   "cell_type": "code",
   "execution_count": 410,
   "metadata": {},
   "outputs": [
    {
     "data": {
      "text/plain": [
       "array(['ID', 'Gender', 'DOB', 'Lead_Creation_Date', 'City_Code',\n",
       "       'City_Category', 'Employer_Code', 'Employer_Category1',\n",
       "       'Employer_Category2', 'Monthly_Income',\n",
       "       'Customer_Existing_Primary_Bank_Code', 'Primary_Bank_Type',\n",
       "       'Contacted', 'Source', 'Source_Category', 'Existing_EMI',\n",
       "       'Loan_Amount', 'Loan_Period', 'Interest_Rate', 'EMI', 'Var1',\n",
       "       'Approved', 'Lead_day'], dtype=object)"
      ]
     },
     "execution_count": 410,
     "metadata": {},
     "output_type": "execute_result"
    }
   ],
   "source": [
    "train.columns.values"
   ]
  },
  {
   "cell_type": "code",
   "execution_count": 411,
   "metadata": {
    "collapsed": true
   },
   "outputs": [],
   "source": [
    "var= [ 'Gender', 'DOB', 'Lead_day', 'City_Code',\n",
    "       'City_Category', 'Employer_Code', 'Employer_Category1',\n",
    "       'Employer_Category2', 'Monthly_Income',\n",
    "       'Customer_Existing_Primary_Bank_Code', 'Primary_Bank_Type',\n",
    "       'Contacted', 'Source', 'Source_Category', 'Existing_EMI',\n",
    "       'Loan_Amount', 'Loan_Period', 'Interest_Rate', 'EMI', 'Var1']\n",
    "\n",
    "y = train['Approved']\n",
    "data = train[var]\n",
    "sub_test = test[var]"
   ]
  },
  {
   "cell_type": "code",
   "execution_count": 412,
   "metadata": {},
   "outputs": [
    {
     "data": {
      "text/plain": [
       "Index(['Approved', 'ID', 'Lead_Creation_Date'], dtype='object')"
      ]
     },
     "execution_count": 412,
     "metadata": {},
     "output_type": "execute_result"
    }
   ],
   "source": [
    "train.columns.difference(var)"
   ]
  },
  {
   "cell_type": "code",
   "execution_count": 423,
   "metadata": {
    "scrolled": true
   },
   "outputs": [
    {
     "name": "stdout",
     "output_type": "stream",
     "text": [
      "[0]\ttrain-roc_auc:0.820163\tvalid-roc_auc:0.83064\n",
      "Multiple eval metrics have been passed: 'valid-roc_auc' will be used for early stopping.\n",
      "\n",
      "Will train until valid-roc_auc hasn't improved in 300 rounds.\n",
      "[10]\ttrain-roc_auc:0.836319\tvalid-roc_auc:0.830713\n",
      "[20]\ttrain-roc_auc:0.838928\tvalid-roc_auc:0.827147\n",
      "[30]\ttrain-roc_auc:0.843288\tvalid-roc_auc:0.827511\n",
      "[40]\ttrain-roc_auc:0.845682\tvalid-roc_auc:0.822489\n",
      "[50]\ttrain-roc_auc:0.848286\tvalid-roc_auc:0.825328\n",
      "[60]\ttrain-roc_auc:0.850609\tvalid-roc_auc:0.823071\n",
      "[70]\ttrain-roc_auc:0.853769\tvalid-roc_auc:0.822198\n",
      "[80]\ttrain-roc_auc:0.856138\tvalid-roc_auc:0.821834\n",
      "[90]\ttrain-roc_auc:0.858104\tvalid-roc_auc:0.822635\n",
      "[100]\ttrain-roc_auc:0.860164\tvalid-roc_auc:0.823654\n",
      "[110]\ttrain-roc_auc:0.862126\tvalid-roc_auc:0.824527\n",
      "[120]\ttrain-roc_auc:0.864019\tvalid-roc_auc:0.822052\n",
      "[130]\ttrain-roc_auc:0.865902\tvalid-roc_auc:0.822416\n",
      "[140]\ttrain-roc_auc:0.867337\tvalid-roc_auc:0.822052\n",
      "[150]\ttrain-roc_auc:0.868832\tvalid-roc_auc:0.822489\n",
      "[160]\ttrain-roc_auc:0.870433\tvalid-roc_auc:0.823799\n",
      "[170]\ttrain-roc_auc:0.871599\tvalid-roc_auc:0.823872\n",
      "[180]\ttrain-roc_auc:0.873083\tvalid-roc_auc:0.823581\n",
      "[190]\ttrain-roc_auc:0.873951\tvalid-roc_auc:0.82329\n",
      "[200]\ttrain-roc_auc:0.875315\tvalid-roc_auc:0.823435\n",
      "[210]\ttrain-roc_auc:0.876066\tvalid-roc_auc:0.82329\n",
      "[220]\ttrain-roc_auc:0.87674\tvalid-roc_auc:0.82329\n",
      "[230]\ttrain-roc_auc:0.877531\tvalid-roc_auc:0.823872\n",
      "[240]\ttrain-roc_auc:0.878372\tvalid-roc_auc:0.822416\n",
      "[250]\ttrain-roc_auc:0.879151\tvalid-roc_auc:0.821689\n",
      "[260]\ttrain-roc_auc:0.880041\tvalid-roc_auc:0.822271\n",
      "[270]\ttrain-roc_auc:0.88066\tvalid-roc_auc:0.82329\n",
      "[280]\ttrain-roc_auc:0.881399\tvalid-roc_auc:0.823872\n",
      "[290]\ttrain-roc_auc:0.882115\tvalid-roc_auc:0.824454\n",
      "[300]\ttrain-roc_auc:0.882629\tvalid-roc_auc:0.824891\n",
      "[310]\ttrain-roc_auc:0.883284\tvalid-roc_auc:0.825182\n",
      "[320]\ttrain-roc_auc:0.884057\tvalid-roc_auc:0.826346\n",
      "[330]\ttrain-roc_auc:0.884615\tvalid-roc_auc:0.825473\n",
      "[340]\ttrain-roc_auc:0.885378\tvalid-roc_auc:0.826783\n",
      "[350]\ttrain-roc_auc:0.885804\tvalid-roc_auc:0.826638\n",
      "[360]\ttrain-roc_auc:0.886522\tvalid-roc_auc:0.827656\n",
      "[370]\ttrain-roc_auc:0.887449\tvalid-roc_auc:0.827802\n",
      "[380]\ttrain-roc_auc:0.887875\tvalid-roc_auc:0.82853\n",
      "[390]\ttrain-roc_auc:0.888434\tvalid-roc_auc:0.827074\n",
      "[400]\ttrain-roc_auc:0.889058\tvalid-roc_auc:0.827511\n",
      "[410]\ttrain-roc_auc:0.889621\tvalid-roc_auc:0.82722\n",
      "[420]\ttrain-roc_auc:0.890058\tvalid-roc_auc:0.826638\n",
      "Stopping. Best iteration:\n",
      "[126]\ttrain-roc_auc:0.865026\tvalid-roc_auc:0.820815\n",
      "\n"
     ]
    }
   ],
   "source": [
    "# def evalerror(preds, dtrain):\n",
    "#     labels = dtrain.get_label()\n",
    "#     return 'roc_auc', roc_auc_score(labels, preds)#math.sqrt(mean_squared_error(labels, preds))\n",
    "\n",
    "# # split data to training and validation sets\n",
    "# X_train, X_test, y_train, y_test = train_test_split(data, y, test_size=0.01, random_state=1, stratify=y)\n",
    "# # convert data to Dmatrix format for xgboost\n",
    "# d_train = xgb.DMatrix(X_train, label=y_train)\n",
    "# d_valid = xgb.DMatrix(X_test, label=y_test)\n",
    "# d_test = xgb.DMatrix(sub_test)\n",
    "\n",
    "# params = {  \n",
    "#     \"n_estimators\":  200,        #230  #\n",
    "#     \"max_depth\": 4 ,            #4        #       \n",
    "#     \"learning_rate\": 0.012 ,    #.012  #\n",
    "#     \"colsample_bytree\": 1 ,     #1    #\n",
    "#     \"subsample\": .9 ,            #.9          #\n",
    "#     \"gamma\": .05 ,               #.1\n",
    "#     'reg_alpha': .1 ,           #.1\n",
    "#     \"min_child_weight\": 4 ,       #4\n",
    "# }\n",
    "\n",
    "# watchlist = [(d_train, 'train'), (d_valid, 'valid')]\n",
    "\n",
    "# # Train xgboost\n",
    "# xgb0 = xgb.train(params, d_train, 1000, watchlist,  feval = evalerror, maximize=False, verbose_eval=10, early_stopping_rounds=300)\n",
    "# # Predict from xgboost regressor\n",
    "# Approved_ = xgb0.predict(d_test)"
   ]
  },
  {
   "cell_type": "code",
   "execution_count": 421,
   "metadata": {},
   "outputs": [
    {
     "data": {
      "image/png": "[encoded data removed]",
      "text/plain": [
       "<matplotlib.figure.Figure at 0x2b687f56c50>"
      ]
     },
     "metadata": {},
     "output_type": "display_data"
    }
   ],
   "source": [
    "# ax = xgb.plot_importance(reg)\n",
    "# fig = ax.figure\n",
    "# fig.set_size_inches(15,5)"
   ]
  },
  {
   "cell_type": "code",
   "execution_count": 439,
   "metadata": {},
   "outputs": [],
   "source": [
    "# d_train = xgb.DMatrix(data, label=y)\n",
    "# d_test = xgb.DMatrix(sub_test)\n",
    "# xgb0 = xgb.train(params, d_train, 400)\n",
    "# # Predict from xgboost regressor\n",
    "# Approved_ = xgb0.predict(d_test)"
   ]
  },
  {
   "cell_type": "code",
   "execution_count": 440,
   "metadata": {},
   "outputs": [],
   "source": [
    "# submit_(Approved_)"
   ]
  },
  {
   "cell_type": "code",
   "execution_count": null,
   "metadata": {
    "collapsed": true
   },
   "outputs": [],
   "source": [
    "# params = {}\n",
    "# params['max_bin'] = 10\n",
    "# params['max_depth'] = -1\n",
    "# params['learning_rate'] = 0.01 # shrinkage_rate\n",
    "# params['boosting_type'] = 'gbdt'\n",
    "# params['objective'] = 'binary'\n",
    "# params['metric'] = 'auc'          # or 'mae'\n",
    "# params['is_unbalance'] = True\n",
    "# params['sub_feature'] = 0.8      # feature_fraction \n",
    "# params['bagging_fraction'] = 0.6 # sub_row\n",
    "# params['bagging_freq'] = 70\n",
    "# params['num_leaves'] = 200        # num_leaf\n",
    "# params['min_data'] = 500         # min_data_in_leaf\n",
    "# params['min_hessian'] = .05     # min_sum_hessian_in_leaf"
   ]
  },
  {
   "cell_type": "code",
   "execution_count": 480,
   "metadata": {},
   "outputs": [
    {
     "name": "stdout",
     "output_type": "stream",
     "text": [
      "Training until validation scores don't improve for 100 rounds.\n",
      "[10]\ttraining's auc: 0.857027\ttraining's roc_auc: 0.857027\tvalid_0's auc: 0.791557\tvalid_0's roc_auc: 0.791557\n",
      "[20]\ttraining's auc: 0.863061\ttraining's roc_auc: 0.863061\tvalid_0's auc: 0.802329\tvalid_0's roc_auc: 0.802329\n",
      "[30]\ttraining's auc: 0.865068\ttraining's roc_auc: 0.865068\tvalid_0's auc: 0.81441\tvalid_0's roc_auc: 0.81441\n",
      "[40]\ttraining's auc: 0.867545\ttraining's roc_auc: 0.867545\tvalid_0's auc: 0.815138\tvalid_0's roc_auc: 0.815138\n",
      "[50]\ttraining's auc: 0.869642\ttraining's roc_auc: 0.869642\tvalid_0's auc: 0.818632\tvalid_0's roc_auc: 0.818632\n",
      "[60]\ttraining's auc: 0.870607\ttraining's roc_auc: 0.870607\tvalid_0's auc: 0.821252\tvalid_0's roc_auc: 0.821252\n",
      "[70]\ttraining's auc: 0.872449\ttraining's roc_auc: 0.872449\tvalid_0's auc: 0.822707\tvalid_0's roc_auc: 0.822707\n",
      "[80]\ttraining's auc: 0.875553\ttraining's roc_auc: 0.875553\tvalid_0's auc: 0.824454\tvalid_0's roc_auc: 0.824454\n",
      "[90]\ttraining's auc: 0.87772\ttraining's roc_auc: 0.87772\tvalid_0's auc: 0.828675\tvalid_0's roc_auc: 0.828675\n",
      "[100]\ttraining's auc: 0.878814\ttraining's roc_auc: 0.878814\tvalid_0's auc: 0.82984\tvalid_0's roc_auc: 0.82984\n",
      "[110]\ttraining's auc: 0.879897\ttraining's roc_auc: 0.879897\tvalid_0's auc: 0.827802\tvalid_0's roc_auc: 0.827802\n",
      "[120]\ttraining's auc: 0.880812\ttraining's roc_auc: 0.880812\tvalid_0's auc: 0.826201\tvalid_0's roc_auc: 0.826201\n",
      "[130]\ttraining's auc: 0.881782\ttraining's roc_auc: 0.881782\tvalid_0's auc: 0.823435\tvalid_0's roc_auc: 0.823435\n",
      "[140]\ttraining's auc: 0.882438\ttraining's roc_auc: 0.882438\tvalid_0's auc: 0.823872\tvalid_0's roc_auc: 0.823872\n",
      "[150]\ttraining's auc: 0.884697\ttraining's roc_auc: 0.884697\tvalid_0's auc: 0.827365\tvalid_0's roc_auc: 0.827365\n",
      "[160]\ttraining's auc: 0.886621\ttraining's roc_auc: 0.886621\tvalid_0's auc: 0.827365\tvalid_0's roc_auc: 0.827365\n",
      "[170]\ttraining's auc: 0.888486\ttraining's roc_auc: 0.888486\tvalid_0's auc: 0.828967\tvalid_0's roc_auc: 0.828967\n",
      "[180]\ttraining's auc: 0.89013\ttraining's roc_auc: 0.89013\tvalid_0's auc: 0.830713\tvalid_0's roc_auc: 0.830713\n",
      "[190]\ttraining's auc: 0.891653\ttraining's roc_auc: 0.891653\tvalid_0's auc: 0.833188\tvalid_0's roc_auc: 0.833188\n",
      "[200]\ttraining's auc: 0.893031\ttraining's roc_auc: 0.893031\tvalid_0's auc: 0.83246\tvalid_0's roc_auc: 0.83246\n",
      "[210]\ttraining's auc: 0.894338\ttraining's roc_auc: 0.894338\tvalid_0's auc: 0.83246\tvalid_0's roc_auc: 0.83246\n",
      "[220]\ttraining's auc: 0.89646\ttraining's roc_auc: 0.89646\tvalid_0's auc: 0.831004\tvalid_0's roc_auc: 0.831004\n",
      "[230]\ttraining's auc: 0.898013\ttraining's roc_auc: 0.898013\tvalid_0's auc: 0.831878\tvalid_0's roc_auc: 0.831878\n",
      "[240]\ttraining's auc: 0.899557\ttraining's roc_auc: 0.899557\tvalid_0's auc: 0.828821\tvalid_0's roc_auc: 0.828821\n",
      "[250]\ttraining's auc: 0.901375\ttraining's roc_auc: 0.901375\tvalid_0's auc: 0.829403\tvalid_0's roc_auc: 0.829403\n",
      "[260]\ttraining's auc: 0.902828\ttraining's roc_auc: 0.902828\tvalid_0's auc: 0.82853\tvalid_0's roc_auc: 0.82853\n",
      "[270]\ttraining's auc: 0.904286\ttraining's roc_auc: 0.904286\tvalid_0's auc: 0.829549\tvalid_0's roc_auc: 0.829549\n",
      "[280]\ttraining's auc: 0.90551\ttraining's roc_auc: 0.90551\tvalid_0's auc: 0.830713\tvalid_0's roc_auc: 0.830713\n",
      "[290]\ttraining's auc: 0.907287\ttraining's roc_auc: 0.907287\tvalid_0's auc: 0.835953\tvalid_0's roc_auc: 0.835953\n",
      "[300]\ttraining's auc: 0.908626\ttraining's roc_auc: 0.908626\tvalid_0's auc: 0.838574\tvalid_0's roc_auc: 0.838574\n",
      "[310]\ttraining's auc: 0.910029\ttraining's roc_auc: 0.910029\tvalid_0's auc: 0.841485\tvalid_0's roc_auc: 0.841485\n",
      "[320]\ttraining's auc: 0.911298\ttraining's roc_auc: 0.911298\tvalid_0's auc: 0.844541\tvalid_0's roc_auc: 0.844541\n",
      "[330]\ttraining's auc: 0.912488\ttraining's roc_auc: 0.912488\tvalid_0's auc: 0.847307\tvalid_0's roc_auc: 0.847307\n",
      "[340]\ttraining's auc: 0.913992\ttraining's roc_auc: 0.913992\tvalid_0's auc: 0.849199\tvalid_0's roc_auc: 0.849199\n",
      "[350]\ttraining's auc: 0.915255\ttraining's roc_auc: 0.915255\tvalid_0's auc: 0.850073\tvalid_0's roc_auc: 0.850073\n",
      "[360]\ttraining's auc: 0.916668\ttraining's roc_auc: 0.916668\tvalid_0's auc: 0.850655\tvalid_0's roc_auc: 0.850655\n",
      "[370]\ttraining's auc: 0.917999\ttraining's roc_auc: 0.917999\tvalid_0's auc: 0.850073\tvalid_0's roc_auc: 0.850073\n",
      "[380]\ttraining's auc: 0.919504\ttraining's roc_auc: 0.919504\tvalid_0's auc: 0.849491\tvalid_0's roc_auc: 0.849491\n",
      "[390]\ttraining's auc: 0.920702\ttraining's roc_auc: 0.920702\tvalid_0's auc: 0.848908\tvalid_0's roc_auc: 0.848908\n",
      "[400]\ttraining's auc: 0.921852\ttraining's roc_auc: 0.921852\tvalid_0's auc: 0.849345\tvalid_0's roc_auc: 0.849345\n",
      "[410]\ttraining's auc: 0.922794\ttraining's roc_auc: 0.922794\tvalid_0's auc: 0.848617\tvalid_0's roc_auc: 0.848617\n",
      "[420]\ttraining's auc: 0.923749\ttraining's roc_auc: 0.923749\tvalid_0's auc: 0.847162\tvalid_0's roc_auc: 0.847162\n",
      "[430]\ttraining's auc: 0.925186\ttraining's roc_auc: 0.925186\tvalid_0's auc: 0.850073\tvalid_0's roc_auc: 0.850073\n",
      "[440]\ttraining's auc: 0.926603\ttraining's roc_auc: 0.926603\tvalid_0's auc: 0.851674\tvalid_0's roc_auc: 0.851674\n",
      "[450]\ttraining's auc: 0.927815\ttraining's roc_auc: 0.927815\tvalid_0's auc: 0.852547\tvalid_0's roc_auc: 0.852547\n",
      "[460]\ttraining's auc: 0.928972\ttraining's roc_auc: 0.928972\tvalid_0's auc: 0.852256\tvalid_0's roc_auc: 0.852256\n",
      "[470]\ttraining's auc: 0.930065\ttraining's roc_auc: 0.930065\tvalid_0's auc: 0.850946\tvalid_0's roc_auc: 0.850946\n",
      "[480]\ttraining's auc: 0.931055\ttraining's roc_auc: 0.931055\tvalid_0's auc: 0.849491\tvalid_0's roc_auc: 0.849491\n",
      "[490]\ttraining's auc: 0.931986\ttraining's roc_auc: 0.931986\tvalid_0's auc: 0.849491\tvalid_0's roc_auc: 0.849491\n",
      "[500]\ttraining's auc: 0.932719\ttraining's roc_auc: 0.932719\tvalid_0's auc: 0.84818\tvalid_0's roc_auc: 0.84818\n",
      "[510]\ttraining's auc: 0.933569\ttraining's roc_auc: 0.933569\tvalid_0's auc: 0.84687\tvalid_0's roc_auc: 0.84687\n",
      "[520]\ttraining's auc: 0.934087\ttraining's roc_auc: 0.934087\tvalid_0's auc: 0.846725\tvalid_0's roc_auc: 0.846725\n",
      "[530]\ttraining's auc: 0.934538\ttraining's roc_auc: 0.934538\tvalid_0's auc: 0.847016\tvalid_0's roc_auc: 0.847016\n",
      "[540]\ttraining's auc: 0.935076\ttraining's roc_auc: 0.935076\tvalid_0's auc: 0.846579\tvalid_0's roc_auc: 0.846579\n",
      "Early stopping, best iteration is:\n",
      "[444]\ttraining's auc: 0.927104\ttraining's roc_auc: 0.927104\tvalid_0's auc: 0.852838\tvalid_0's roc_auc: 0.852838\n"
     ]
    }
   ],
   "source": [
    "import lightgbm\n",
    "def evalerror(preds, dtrain):\n",
    "    labels = dtrain.get_label()\n",
    "    return 'roc_auc', roc_auc_score( labels, preds), \n",
    "X_train, X_test, y_train, y_test = train_test_split(data, y, test_size=0.01, random_state=1, stratify=y)\n",
    "\n",
    "d_train = lightgbm.Dataset(X_train, label=y_train)\n",
    "d_valid = lightgbm.Dataset(X_test, label=y_test)\n",
    "\n",
    "params = {}\n",
    "params['max_bin'] = 10\n",
    "params['max_depth'] = -1\n",
    "params['learning_rate'] = 0.01 # shrinkage_rate\n",
    "params['boosting_type'] = 'gbdt'\n",
    "params['objective'] = 'binary'\n",
    "params['metric'] = 'auc'          # or 'mae'\n",
    "params['is_unbalance'] = True\n",
    "params['sub_feature'] = 0.8      # feature_fraction \n",
    "params['bagging_fraction'] = 0.6 # sub_row\n",
    "params['bagging_freq'] = 70\n",
    "params['num_leaves'] = 50        # num_leaf\n",
    "params['min_data'] = 500         # min_data_in_leaf\n",
    "params['min_hessian'] = .05     # min_sum_hessian_in_leaf\n",
    "\n",
    "\n",
    "lgb0 = lightgbm.train(params,\n",
    "                d_train,\n",
    "                num_boost_round=1000,\n",
    "                valid_sets=[d_valid, d_train],\n",
    "                feval= evalerror,\n",
    "                verbose_eval= 10,\n",
    "                early_stopping_rounds= 100)\n",
    "Approved_ = lgb0.predict(sub_test)"
   ]
  },
  {
   "cell_type": "code",
   "execution_count": 481,
   "metadata": {},
   "outputs": [],
   "source": [
    "d_train = lightgbm.Dataset(X_train, label=y_train)\n",
    "d_valid = lightgbm.Dataset(X_test, label=y_test)\n",
    "lgb0 = lightgbm.train(params,\n",
    "                d_train,\n",
    "                num_boost_round=400)\n",
    "# Predict from xgboost regressor\n",
    "Approved_ = lgb0.predict(sub_test)"
   ]
  },
  {
   "cell_type": "code",
   "execution_count": 482,
   "metadata": {},
   "outputs": [],
   "source": [
    "submit_(Approved_)"
   ]
  },
  {
   "cell_type": "code",
   "execution_count": 444,
   "metadata": {},
   "outputs": [],
   "source": [
    "# from lightgbm import LGBMClassifier\n",
    "# lgb1= LGBMClassifier()\n",
    "# print (lgb1.fit(data, y))"
   ]
  },
  {
   "cell_type": "code",
   "execution_count": 445,
   "metadata": {},
   "outputs": [],
   "source": [
    "# import xgboost as xgb\n",
    "# xgb1= xgb.XGBClassifier()\n",
    "# print (xgb1.fit(data, y))"
   ]
  },
  {
   "cell_type": "code",
   "execution_count": 446,
   "metadata": {},
   "outputs": [],
   "source": [
    "# from sklearn.linear_model import LogisticRegression, LinearRegression\n",
    "# lr= LogisticRegression()\n",
    "# var= data.isnull().sum()[data.isnull().sum()==0].index\n",
    "# print (lr.fit(train[var], y))"
   ]
  },
  {
   "cell_type": "code",
   "execution_count": 452,
   "metadata": {},
   "outputs": [
    {
     "data": {
      "text/plain": [
       "array([ 0.01354998,  0.03694087,  0.00598866, ...,  0.00509855,\n",
       "        0.02184999,  0.0091722 ], dtype=float32)"
      ]
     },
     "execution_count": 452,
     "metadata": {},
     "output_type": "execute_result"
    }
   ],
   "source": [
    "# xgb0.predict(d_test)"
   ]
  },
  {
   "cell_type": "code",
   "execution_count": 454,
   "metadata": {},
   "outputs": [],
   "source": [
    "# Approved_train_xgb0= xgb0.predict(xgb.DMatrix(data))\n",
    "# Approved_test_xgb0= xgb0.predict(xgb.DMatrix(sub_test))\n",
    "\n",
    "# Approved_train_lgb0= lgb0.predict(data)\n",
    "# Approved_test_lgb0= lgb0.predict(sub_test)\n",
    "\n",
    "# ensemble_train= pd.DataFrame({'LGB': Approved_train_lgb,\n",
    "#                             'XGB': Approved_train_xgb0})\n",
    "\n",
    "# ensemble_test= pd.DataFrame({'LGB': Approved_test_lgb,\n",
    "#                             'XGB': Approved_test_xgb0})"
   ]
  },
  {
   "cell_type": "code",
   "execution_count": 455,
   "metadata": {},
   "outputs": [],
   "source": [
    "# lr_ensemble= LogisticRegression()\n",
    "# lr_ensemble.fit(ensemble_train, y)\n",
    "# Approved_= lr_ensemble.predict_proba(ensemble_test)[:,1]"
   ]
  },
  {
   "cell_type": "code",
   "execution_count": 457,
   "metadata": {},
   "outputs": [
    {
     "name": "stdout",
     "output_type": "stream",
     "text": [
      "LinearRegression(copy_X=True, fit_intercept=True, n_jobs=1, normalize=False)\n"
     ]
    }
   ],
   "source": [
    "# lin_ensemble= LinearRegression()\n",
    "# print (lin_ensemble.fit(ensemble_train,y))\n",
    "# Approved_= lin_ensemble.predict(ensemble_test)"
   ]
  },
  {
   "cell_type": "code",
   "execution_count": 458,
   "metadata": {
    "collapsed": true
   },
   "outputs": [],
   "source": [
    "# submit_(Approved_)"
   ]
  },
  {
   "cell_type": "code",
   "execution_count": null,
   "metadata": {
    "collapsed": true
   },
   "outputs": [],
   "source": []
  }
 ],
 "metadata": {
  "kernelspec": {
   "display_name": "Python 3",
   "language": "python",
   "name": "python3"
  },
  "language_info": {
   "codemirror_mode": {
    "name": "ipython",
    "version": 3
   },
   "file_extension": ".py",
   "mimetype": "text/x-python",
   "name": "python",
   "nbconvert_exporter": "python",
   "pygments_lexer": "ipython3",
   "version": "3.6.4"
  }
 },
 "nbformat": 4,
 "nbformat_minor": 2
}
